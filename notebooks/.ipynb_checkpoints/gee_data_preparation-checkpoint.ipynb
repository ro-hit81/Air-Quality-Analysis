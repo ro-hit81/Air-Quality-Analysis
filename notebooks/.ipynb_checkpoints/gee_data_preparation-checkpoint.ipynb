{
 "cells": [
  {
   "cell_type": "code",
   "execution_count": null,
   "id": "002587cd-6b3f-47ea-ad84-04a3c8564b05",
   "metadata": {},
   "outputs": [],
   "source": [
    "import ee\n",
    "import pandas as pd\n",
    "\n",
    "ee.Authenticate()\n",
    "ee.Initialize()"
   ]
  },
  {
   "cell_type": "code",
   "execution_count": null,
   "id": "e09c5103-6857-41db-ad07-f1a54b438cb8",
   "metadata": {},
   "outputs": [],
   "source": [
    "bounds = ee.Geometry.Rectangle(-5.16, 40.85, 10.46, 50.71)\n",
    "mean_reducer = ee.Reducer.mean()"
   ]
  },
  {
   "cell_type": "code",
   "execution_count": null,
   "id": "86041ecd-42f6-494b-9c61-f5a91ba51c0d",
   "metadata": {},
   "outputs": [],
   "source": [
    "base_columns = ['can_burcen', 'can_code', 'can_name', 'can_name_l', 'can_name_u', 'fid']\n",
    "\n",
    "data_maps = [\n",
    "    {\n",
    "        'collection_id': 'ECMWF/ERA5_LAND/MONTHLY_AGGR',\n",
    "        'bands': ['temperature_2m', 'u_component_of_wind_10m', 'v_component_of_wind_10m', 'surface_pressure']\n",
    "    },\n",
    "    {\n",
    "        'collection_id': 'NASA/SMAP/SPL3SMP_E/005',\n",
    "        'bands': ['soil_moisture_pm', 'soil_moisture_am']\n",
    "    },\n",
    "    {\n",
    "        'collection_id': 'MODIS/061/MOD13A1',\n",
    "        'bands': ['NDVI', 'EVI', 'sur_refl_b01', 'sur_refl_b02', 'sur_refl_b03', 'sur_refl_b07']\n",
    "    }\n",
    "]"
   ]
  },
  {
   "cell_type": "code",
   "execution_count": null,
   "id": "a31feb51-ab93-4cfc-b1fc-a9e2c67a1559",
   "metadata": {
    "scrolled": true
   },
   "outputs": [],
   "source": [
    "df_combined = pd.DataFrame()\n",
    "cantons = ee.FeatureCollection('projects/ee-rhtkhati/assets/france_canton')\n",
    "\n",
    "for data_map in data_maps:\n",
    "    image_collection = ee.ImageCollection(data_map['collection_id']).filterDate('2023-03-01', '2023-03-31').filterBounds(bounds)\n",
    "    mean_image = image_collection.reduce(mean_reducer)\n",
    "\n",
    "    stats = mean_image.reduceRegions(\n",
    "        collection= cantons,\n",
    "        reducer= mean_reducer,\n",
    "        scale= 3000,\n",
    "        crs= 'EPSG:4326'\n",
    "    )\n",
    "    \n",
    "    new_columns = base_columns.copy() \n",
    "    for band in data_map['bands']:\n",
    "        new_columns.append(f\"{band}_mean\") \n",
    "\n",
    "    nested_list = stats.reduceColumns(ee.Reducer.toList(len(new_columns)), new_columns).values().get(0)\n",
    "    stats_list = nested_list.getInfo()\n",
    "    \n",
    "    df = pd.DataFrame(stats_list, columns=new_columns)\n",
    "\n",
    "    if df_combined.empty:\n",
    "        df_combined = df\n",
    "    else:\n",
    "        df_combined = pd.merge(df_combined, df, on=['can_burcen', 'can_code', 'can_name', 'can_name_l', 'can_name_u', 'fid'], how='outer')"
   ]
  },
  {
   "cell_type": "code",
   "execution_count": null,
   "id": "39831a81-f2ef-44ab-b4e9-87145a0811ad",
   "metadata": {},
   "outputs": [],
   "source": [
    "image_collection = ee.ImageCollection('UCSB-CHG/CHIRPS/DAILY').filterDate('2023-03-01', '2023-03-31').filterBounds(bounds)\n",
    "mean_image = image_collection.reduce(mean_reducer)\n",
    "stats = mean_image.reduceRegions(\n",
    "    collection= cantons,\n",
    "    reducer= mean_reducer,\n",
    "    scale= 3000,\n",
    "    crs= 'EPSG:4326'\n",
    ")\n",
    "columns = ['can_burcen', 'can_code', 'can_name', 'can_name_l', 'can_name_u', 'fid', 'mean']\n",
    "nested_list = stats.reduceColumns(ee.Reducer.toList(len(columns)), columns).values().get(0)\n",
    "stats_list = nested_list.getInfo()"
   ]
  },
  {
   "cell_type": "code",
   "execution_count": null,
   "id": "7e90b955-a11c-4049-946c-46919b797986",
   "metadata": {},
   "outputs": [],
   "source": [
    "precipitation = pd.DataFrame(stats_list, columns=columns)"
   ]
  },
  {
   "cell_type": "code",
   "execution_count": null,
   "id": "cdd0f158-382a-4981-971c-89c5f29cbb6b",
   "metadata": {},
   "outputs": [],
   "source": [
    "df_combined = df_combined.merge(\n",
    "    precipitation[['can_burcen', 'mean']],\n",
    "    left_on='can_burcen',\n",
    "    right_on='can_burcen',\n",
    "    how='left'\n",
    ")\n",
    "df_combined.rename(columns={'mean': 'precipitation_mean'}, inplace=True)"
   ]
  },
  {
   "cell_type": "code",
   "execution_count": null,
   "id": "7cd6dd4d-22b6-4141-8017-a29c11906945",
   "metadata": {},
   "outputs": [],
   "source": [
    "df_combined.to_excel(\"../data/23_march_remain_values.xlsx\", index=False)"
   ]
  },
  {
   "cell_type": "code",
   "execution_count": null,
   "id": "31832a26-c1ce-4418-be77-2688085e0ad0",
   "metadata": {},
   "outputs": [],
   "source": []
  }
 ],
 "metadata": {
  "kernelspec": {
   "display_name": "Air Quality",
   "language": "python",
   "name": "air"
  },
  "language_info": {
   "codemirror_mode": {
    "name": "ipython",
    "version": 3
   },
   "file_extension": ".py",
   "mimetype": "text/x-python",
   "name": "python",
   "nbconvert_exporter": "python",
   "pygments_lexer": "ipython3",
   "version": "3.10.12"
  }
 },
 "nbformat": 4,
 "nbformat_minor": 5
}
