{
 "cells": [
  {
   "cell_type": "code",
   "execution_count": 1,
   "id": "002587cd-6b3f-47ea-ad84-04a3c8564b05",
   "metadata": {},
   "outputs": [],
   "source": [
    "import ee\n",
    "import pandas as pd\n",
    "\n",
    "ee.Authenticate()\n",
    "ee.Initialize()"
   ]
  },
  {
   "cell_type": "code",
   "execution_count": 2,
   "id": "e09c5103-6857-41db-ad07-f1a54b438cb8",
   "metadata": {},
   "outputs": [],
   "source": [
    "bounds = ee.Geometry.Rectangle(-5.16, 40.85, 10.46, 50.71)"
   ]
  },
  {
   "cell_type": "code",
   "execution_count": 3,
   "id": "fbf61d76-922a-48a3-8be3-1a29f5f33c98",
   "metadata": {},
   "outputs": [],
   "source": [
    "columns = ['can_burcen', 'can_code', 'can_name', 'can_name_l', 'can_name_u', 'fid', 'max', 'mean', 'median', 'min', 'stdDev']\n",
    "\n",
    "pollutants = [\n",
    "    {'product': 'NO2', 'band': 'NO2_column_number_density', 'min': -0.0006, 'max': 0.0096},\n",
    "    {'product': 'SO2', 'band': 'SO2_column_number_density', 'min': -48, 'max': 0.24},\n",
    "    {'product': 'CO', 'band': 'CO_column_number_density', 'min': -279, 'max': 4.64},\n",
    "    {'product': 'O3', 'band': 'O3_column_number_density', 'min': 0.0047, 'max': 0.272},\n",
    "    {'product': 'HCHO', 'band': 'tropospheric_HCHO_column_number_density', 'min': -0.02, 'max': 0.01},\n",
    "    {'product': 'AER_AI', 'band': 'absorbing_aerosol_index', 'min': -25, 'max': 39},\n",
    "    {'product': 'CH4', 'band': 'CH4_column_volume_mixing_ratio_dry_air', 'min': -1285, 'max': 2405},\n",
    "    {'product': 'CLOUD', 'band': 'cloud_fraction', 'min': 0.0, 'max': 1.0}\n",
    "]"
   ]
  },
  {
   "cell_type": "code",
   "execution_count": 4,
   "id": "f6c218ea-8c2d-4800-9e2a-778aa2ea2130",
   "metadata": {},
   "outputs": [],
   "source": [
    "max_reducer = ee.Reducer.max()\n",
    "mean_reducer = ee.Reducer.mean()\n",
    "median_reducer = ee.Reducer.median()\n",
    "min_reducer = ee.Reducer.min()\n",
    "stdDev_reducer = ee.Reducer.stdDev()\n",
    "\n",
    "combined_reducer = max_reducer.combine(\n",
    "    mean_reducer, sharedInputs=True).combine(\n",
    "    median_reducer, sharedInputs=True).combine(\n",
    "    min_reducer, sharedInputs=True).combine(\n",
    "    stdDev_reducer, sharedInputs=True)"
   ]
  },
  {
   "cell_type": "code",
   "execution_count": null,
   "id": "2b8688f2-782b-407f-bf0a-f06516fbe071",
   "metadata": {
    "scrolled": true
   },
   "outputs": [],
   "source": [
    "cantons = ee.FeatureCollection('projects/ee-rhtkhati/assets/france_canton')\n",
    "df_combined = pd.DataFrame()\n",
    "\n",
    "for pollutant in pollutants:\n",
    "    collection_base = 'COPERNICUS/S5P/OFFL/L3_' if pollutant['product'] in ['CLOUD', 'CH4'] else 'COPERNICUS/S5P/NRTI/L3_'\n",
    "    collection_id = collection_base + pollutant['product']\n",
    "\n",
    "    image_collection = ee.ImageCollection(collection_id).select(pollutant['band']).filterDate('2023-03-01', '2023-03-31').filterBounds(bounds)\n",
    "    mean_image = image_collection.reduce(ee.Reducer.mean())\n",
    "    \n",
    "    stats = mean_image.reduceRegions(\n",
    "        collection= cantons,\n",
    "        reducer= combined_reducer,\n",
    "        scale= 3000,\n",
    "        crs= 'EPSG:4326'\n",
    "    )\n",
    "\n",
    "    nested_list = stats.reduceColumns(ee.Reducer.toList(len(columns)), columns).values().get(0)\n",
    "    stats_list = nested_list.getInfo()\n",
    "    \n",
    "    df = pd.DataFrame(stats_list, columns=columns)\n",
    "    \n",
    "    suffix = f\"_{pollutant['product']}\"\n",
    "    df = df.rename(columns={\n",
    "        'max': 'max' + suffix,\n",
    "        'mean': 'mean' + suffix,\n",
    "        'median': 'median' + suffix,\n",
    "        'min': 'min' + suffix,\n",
    "        'stdDev': 'stdDev' + suffix\n",
    "    })\n",
    "    \n",
    "    if df_combined.empty:\n",
    "        df_combined = df\n",
    "    else:\n",
    "        df_combined = pd.merge(df_combined, df, on=['can_burcen', 'can_code', 'can_name', 'can_name_l', 'can_name_u', 'fid'], how='outer')"
   ]
  },
  {
   "cell_type": "code",
   "execution_count": null,
   "id": "7cd6dd4d-22b6-4141-8017-a29c11906945",
   "metadata": {},
   "outputs": [],
   "source": [
    "df_combined.to_excel(\"../data/23_march_s5p_values.xlsx\", index=False)"
   ]
  }
 ],
 "metadata": {
  "kernelspec": {
   "display_name": "Air Quality",
   "language": "python",
   "name": "air"
  },
  "language_info": {
   "codemirror_mode": {
    "name": "ipython",
    "version": 3
   },
   "file_extension": ".py",
   "mimetype": "text/x-python",
   "name": "python",
   "nbconvert_exporter": "python",
   "pygments_lexer": "ipython3",
   "version": "3.10.12"
  }
 },
 "nbformat": 4,
 "nbformat_minor": 5
}
